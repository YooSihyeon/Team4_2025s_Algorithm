{
 "cells": [
  {
   "cell_type": "code",
   "execution_count": 1,
   "id": "a1b3db18",
   "metadata": {},
   "outputs": [],
   "source": [
    "lst = [31, -36, -47, 44, -15, -19, -22, -33, 44, -37, 36, 44, 19, -39, 25, 4, -46, -47, -39, -23,\n",
    " -21, 14, 27, -47, 21, -25, 41, 33, 39, 19, 3, -22, 7, 25, -15, -50, 47, -30, 39, 4,\n",
    " -7, -15, -31, -23, 47, -7, -37, -39, -2, -38, -5, -6, 27, -17, -45, 43, 8, 18, -35, -2,\n",
    " -40, 20, -13, 30, 29, -4, 23, -26, 40, -42, -45, 34, -21, 48, -13, -40, -21, -38, -2, -15,\n",
    " 8, 31, -4, -30, -3, -5, -24, 35, -16, 39, 37, 32, -41, 27, 31, -29, 18, 43, -19, -30]\n",
    "\n",
    "target = -15"
   ]
  },
  {
   "cell_type": "code",
   "execution_count": 10,
   "id": "a332d1ec",
   "metadata": {},
   "outputs": [],
   "source": [
    "def find_first_index(arr, target):\n",
    "    left, right = 0, len(arr) - 1\n",
    "    first = -1\n",
    "    while left <= right:\n",
    "        mid = (left + right) // 2\n",
    "        if arr[mid] == target:\n",
    "            first = mid\n",
    "            right = mid - 1\n",
    "        elif arr[mid] < target:\n",
    "            left = mid + 1\n",
    "        else:\n",
    "            right = mid - 1\n",
    "    return first\n",
    "\n",
    "def find_last_index(arr, target):\n",
    "    left, right = 0, len(arr) - 1\n",
    "    last = -1\n",
    "    while left <= right:\n",
    "        mid = (left + right) // 2\n",
    "        if arr[mid] == target:\n",
    "            last = mid\n",
    "            left = mid + 1\n",
    "        elif arr[mid] < target:\n",
    "            left = mid + 1\n",
    "        else:\n",
    "            right = mid - 1\n",
    "    return last\n",
    "\n",
    "def find_target_with_passcord(arr, target):\n",
    "    first = find_first_index(arr, target)\n",
    "    last = find_last_index(arr, target)\n",
    "    if first == -1:\n",
    "        print(f\"Target {target} not found in array.\")\n",
    "        return None\n",
    "    passcord = first + last\n",
    "    print(f\"{first}\")\n",
    "    print(f\"{last}\")\n",
    "    print(f\"Passcord (first + last): {passcord}\")\n",
    "    return (first, last, passcord)\n"
   ]
  },
  {
   "cell_type": "code",
   "execution_count": 11,
   "id": "feee5dd9",
   "metadata": {},
   "outputs": [
    {
     "name": "stdout",
     "output_type": "stream",
     "text": [
      "40\n",
      "43\n",
      "Passcord (first + last): 83\n"
     ]
    },
    {
     "data": {
      "text/plain": [
       "(40, 43, 83)"
      ]
     },
     "execution_count": 11,
     "metadata": {},
     "output_type": "execute_result"
    }
   ],
   "source": [
    "find_target_with_passcord(lst, target)"
   ]
  }
 ],
 "metadata": {
  "kernelspec": {
   "display_name": "Python 3",
   "language": "python",
   "name": "python3"
  },
  "language_info": {
   "codemirror_mode": {
    "name": "ipython",
    "version": 3
   },
   "file_extension": ".py",
   "mimetype": "text/x-python",
   "name": "python",
   "nbconvert_exporter": "python",
   "pygments_lexer": "ipython3",
   "version": "3.13.2"
  }
 },
 "nbformat": 4,
 "nbformat_minor": 5
}
