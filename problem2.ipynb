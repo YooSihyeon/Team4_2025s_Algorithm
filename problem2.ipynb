{
 "cells": [
  {
   "cell_type": "code",
   "execution_count": null,
   "id": "a1b3db18",
   "metadata": {},
   "outputs": [],
   "source": [
    "# 문제 2. 확장 이진 탐색: 중복 요소 및 예외 처리\n",
    "# - 오름차순 정렬된 리스트 lst와 target이 주어졌을 때\n",
    "# - target이 존재하는 시작 위치(start index)와 끝 위치(end index)를 찾는다\n",
    "# - 존재하지 않으면 \"notfound\" 출력\n",
    "# - 존재한다면 PASSCORD는 start + end 값으로 계산된다\n",
    "\n",
    "lst = [31, -36, -47, 44, -15, -19, -22, -33, 44, -37, 36, 44, 19, -39, 25, 4, -46, -47, -39, -23,\n",
    " -21, 14, 27, -47, 21, -25, 41, 33, 39, 19, 3, -22, 7, 25, -15, -50, 47, -30, 39, 4,\n",
    " -7, -15, -31, -23, 47, -7, -37, -39, -2, -38, -5, -6, 27, -17, -45, 43, 8, 18, -35, -2,\n",
    " -40, 20, -13, 30, 29, -4, 23, -26, 40, -42, -45, 34, -21, 48, -13, -40, -21, -38, -2, -15,\n",
    " 8, 31, -4, -30, -3, -5, -24, 35, -16, 39, 37, 32, -41, 27, 31, -29, 18, 43, -19, -30]\n",
    "\n",
    "target = -15"
   ]
  },
  {
   "cell_type": "code",
   "execution_count": null,
   "id": "85ba57de",
   "metadata": {},
   "outputs": [],
   "source": [
    "# 시작 인덱스를 찾는 함수\n",
    "# target 이상이 처음 등장하는 위치 (왼쪽 경계)\n",
    "def find_start_index(lst, target):\n",
    "    left, right = 0, len(lst) - 1  # 리스트의 좌우 경계 초기화\n",
    "    result = -1  # 찾지 못할 경우를 대비해 -1로 초기화\n",
    "    while left <= right:  # 이진 탐색 수행 조건\n",
    "        mid = (left + right) // 2  # 중간 인덱스 계산\n",
    "        if lst[mid] < target:\n",
    "            left = mid + 1    # target보다 작으면 오른쪽으로 범위 이동\n",
    "        else:\n",
    "            if lst[mid] == target:\n",
    "                result = mid   # 일치하는 값을 찾으면 result에 저장\n",
    "            right = mid - 1    # 계속 왼쪽 범위 탐색\n",
    "    return result              # 찾은 위치 반환 (없으면 -1)"
   ]
  },
  {
   "cell_type": "code",
   "execution_count": null,
   "id": "b516ac2d",
   "metadata": {},
   "outputs": [],
   "source": [
    "# 끝 인덱스를 찾는 함수\n",
    "# target 이하가 마지막으로 등장하는 위치 (오른쪽 경계)\n",
    "def find_end_index(lst, target):\n",
    "    left, right = 0, len(lst) - 1\n",
    "    result = -1\n",
    "    while left <= right:\n",
    "        mid = (left + right) // 2\n",
    "        if lst[mid] > target:\n",
    "            right = mid - 1   # target보다 크면 왼쪽으로 범위 이동\n",
    "        else:\n",
    "            if lst[mid] == target:\n",
    "                result = mid  # 일치하는 값을 찾으면 result에 저장\n",
    "            left = mid + 1    # 계속 오른쪽 범위 탐색\n",
    "    return result"
   ]
  },
  {
   "cell_type": "code",
   "execution_count": null,
   "id": "832449b4",
   "metadata": {},
   "outputs": [],
   "source": [
    "# 전체 탐색을 수행하는 메인 함수\n",
    "def binary_search_range(lst, target):\n",
    "    lst.sort()  # 이진 탐색을 위해 먼저 리스트를 오름차순 정렬\n",
    "    \n",
    "    # 시작 위치와 끝 위치 탐색\n",
    "    start = find_start_index(lst, target)\n",
    "    end = find_end_index(lst, target)\n",
    "\n",
    "    # 탐색 실패 시\n",
    "    if start == -1 or end == -1:\n",
    "        print(\"notfound\")\n",
    "        return \"notfound\"\n",
    "    else:\n",
    "        result = start + end\n",
    "        print(f\"{start} {end}\")\n",
    "        print(f\"PASSCORD = {start} + {end} = {result}\")\n",
    "        return result"
   ]
  },
  {
   "cell_type": "code",
   "execution_count": null,
   "id": "af85fcb4",
   "metadata": {},
   "outputs": [
    {
     "name": "stdout",
     "output_type": "stream",
     "text": [
      "40 43\n",
      "PASSCORD = 40 + 43 = 83\n"
     ]
    },
    {
     "data": {
      "text/plain": [
       "83"
      ]
     },
     "execution_count": 7,
     "metadata": {},
     "output_type": "execute_result"
    }
   ],
   "source": [
    "# 실행\n",
    "binary_search_range(lst, target)"
   ]
  },
  {
   "cell_type": "code",
   "execution_count": null,
   "id": "a332d1ec",
   "metadata": {},
   "outputs": [],
   "source": []
  }
 ],
 "metadata": {
  "kernelspec": {
   "display_name": "Python 3",
   "language": "python",
   "name": "python3"
  },
  "language_info": {
   "codemirror_mode": {
    "name": "ipython",
    "version": 3
   },
   "file_extension": ".py",
   "mimetype": "text/x-python",
   "name": "python",
   "nbconvert_exporter": "python",
   "pygments_lexer": "ipython3",
   "version": "3.13.2"
  }
 },
 "nbformat": 4,
 "nbformat_minor": 5
}
