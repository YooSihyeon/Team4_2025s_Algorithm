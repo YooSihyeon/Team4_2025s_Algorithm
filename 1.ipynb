{
 "cells": [
  {
   "cell_type": "markdown",
   "id": "2de9ff4a",
   "metadata": {},
   "source": [
    "### 1. 정렬 정확도 테스트\n",
    "\n",
    "문제 요약\n",
    "- 목표: 주어진 리스트를 오름차순으로 정확하게 정렬\n",
    "\n",
    "- 핵심 포인트: 최대 길이 100 이하의 리스트(맞나?) / 정확도 (성능보다 정렬의 정확성이 중요하다)\n",
    "\n"
   ]
  },
  {
   "cell_type": "markdown",
   "id": "d202d429",
   "metadata": {},
   "source": [
    "#### 선택 정렬 (Selection Sort)"
   ]
  },
  {
   "cell_type": "code",
   "execution_count": null,
   "id": "ada783e0",
   "metadata": {},
   "outputs": [],
   "source": [
    "def selection_sort(n, arr):\n",
    "    n = len(arr)\n",
    "    # 리스트의 앞에서부터 차례대로 최소값을 선택해 정렬\n",
    "    for i in range(n):\n",
    "        min_idx = i  # 현재 위치를 최소값이라고 가정\n",
    "        for j in range(i + 1, n):\n",
    "            if arr[j] < arr[min_idx]:\n",
    "                min_idx = j  # 더 작은 값이 있으면 해당 인덱스로 갱신\n",
    "        # 최소값을 현재 위치로 교환\n",
    "        arr[i], arr[min_idx] = arr[min_idx], arr[i]\n",
    "    return arr\n"
   ]
  },
  {
   "cell_type": "code",
   "execution_count": 22,
   "id": "26f62c9b",
   "metadata": {},
   "outputs": [
    {
     "data": {
      "text/plain": [
       "[1, 2, 4, 5, 7]"
      ]
     },
     "execution_count": 22,
     "metadata": {},
     "output_type": "execute_result"
    }
   ],
   "source": [
    "# 예시 입력\n",
    "ex = [7, 2, 5, 1, 4]\n",
    "\n",
    "selection_sort(5, ex)"
   ]
  },
  {
   "cell_type": "markdown",
   "id": "60fd365d",
   "metadata": {},
   "source": [
    "#### 버블 정렬 (Bubble Sort)"
   ]
  },
  {
   "cell_type": "code",
   "execution_count": 24,
   "id": "7e13a336",
   "metadata": {},
   "outputs": [],
   "source": [
    "def bubble_sort(n, arr):\n",
    "    n = len(arr)\n",
    "    # 리스트의 끝까지 반복\n",
    "    for i in range(n):\n",
    "        # 인접한 두 원소를 비교하여 더 큰 값을 뒤로 보내는 과정을 반복\n",
    "        for j in range(0, n - i - 1):\n",
    "            # 앞의 값이 뒤의 값보다 크면 위치를 교환\n",
    "            if arr[j] > arr[j + 1]:\n",
    "                arr[j], arr[j + 1] = arr[j + 1], arr[j]\n",
    "                # 큰 값이 점점 뒤로 \"버블\"처럼 올라감\n",
    "    return arr"
   ]
  },
  {
   "cell_type": "code",
   "execution_count": 25,
   "id": "b10c2404",
   "metadata": {},
   "outputs": [
    {
     "data": {
      "text/plain": [
       "[1, 2, 4, 5, 7]"
      ]
     },
     "execution_count": 25,
     "metadata": {},
     "output_type": "execute_result"
    }
   ],
   "source": [
    "# 예시 입력\n",
    "ex = [7, 2, 5, 1, 4]\n",
    "\n",
    "bubble_sort(5, ex)"
   ]
  },
  {
   "cell_type": "markdown",
   "id": "a4b12640",
   "metadata": {},
   "source": [
    "#### 삽입 정렬 (Insertion Sort)"
   ]
  },
  {
   "cell_type": "code",
   "execution_count": 29,
   "id": "34e7b1ef",
   "metadata": {},
   "outputs": [],
   "source": [
    "def insertion_sort(n, arr):\n",
    "    n = len(arr)\n",
    "    # 두 번째 원소부터 시작해서 앞의 정렬된 부분과 비교하며 삽입\n",
    "    for i in range(1, len(arr)):\n",
    "        key = arr[i]        # 현재 삽입하려는 값\n",
    "        j = i - 1\n",
    "        # key보다 큰 값들을 한 칸씩 뒤로 이동\n",
    "        while j >= 0 and arr[j] > key:\n",
    "            arr[j + 1] = arr[j]\n",
    "            j -= 1\n",
    "        # key를 알맞은 위치에 삽입\n",
    "        arr[j + 1] = key\n",
    "    return arr"
   ]
  },
  {
   "cell_type": "code",
   "execution_count": 30,
   "id": "11f3c66f",
   "metadata": {},
   "outputs": [
    {
     "data": {
      "text/plain": [
       "[1, 2, 4, 5, 7]"
      ]
     },
     "execution_count": 30,
     "metadata": {},
     "output_type": "execute_result"
    }
   ],
   "source": [
    "# 예시 입력\n",
    "ex = [7, 2, 5, 1, 4]\n",
    "\n",
    "insertion_sort(5, ex)"
   ]
  },
  {
   "cell_type": "markdown",
   "id": "e564dd51",
   "metadata": {},
   "source": [
    "#### 병합 정렬 (Merge Sort)"
   ]
  },
  {
   "cell_type": "code",
   "execution_count": 38,
   "id": "7cde7305",
   "metadata": {},
   "outputs": [],
   "source": [
    "def merge_sort(arr):\n",
    "    # 리스트 길이가 1 이하이면 이미 정렬된 상태\n",
    "    if len(arr) <= 1:\n",
    "        return arr\n",
    "\n",
    "    # 리스트를 절반으로 분할 (Divide)\n",
    "    mid = len(arr) // 2\n",
    "    left = merge_sort(arr[:mid])    # 왼쪽 부분 정렬\n",
    "    right = merge_sort(arr[mid:])   # 오른쪽 부분 정렬\n",
    "\n",
    "    # 정렬된 두 리스트를 병합 (Merge)\n",
    "    merged = []\n",
    "    i = j = 0\n",
    "    # 두 리스트의 요소를 하나씩 비교하여 더 작은 값을 추가\n",
    "    while i < len(left) and j < len(right):\n",
    "        if left[i] < right[j]:\n",
    "            merged.append(left[i])\n",
    "            i += 1\n",
    "        else:\n",
    "            merged.append(right[j])\n",
    "            j += 1\n",
    "\n",
    "    # 남은 요소들을 추가\n",
    "    merged.extend(left[i:])\n",
    "    merged.extend(right[j:])\n",
    "    return merged\n"
   ]
  },
  {
   "cell_type": "code",
   "execution_count": 39,
   "id": "e9fa2ea5",
   "metadata": {},
   "outputs": [
    {
     "data": {
      "text/plain": [
       "[1, 2, 4, 5, 7]"
      ]
     },
     "execution_count": 39,
     "metadata": {},
     "output_type": "execute_result"
    }
   ],
   "source": [
    "# 예시 입력\n",
    "ex = [7, 2, 5, 1, 4]\n",
    "\n",
    "merge_sort(ex)"
   ]
  },
  {
   "cell_type": "markdown",
   "id": "1b6d94e8",
   "metadata": {},
   "source": [
    "#### 퀵 정렬 (Quick Sort)"
   ]
  },
  {
   "cell_type": "code",
   "execution_count": 40,
   "id": "d664ee6a",
   "metadata": {},
   "outputs": [],
   "source": [
    "def quick_sort(arr):\n",
    "    # 리스트 길이가 1 이하일 경우 정렬 완료\n",
    "    if len(arr) <= 1:\n",
    "        return arr\n",
    "\n",
    "    pivot = arr[0]              # 첫 번째 원소를 기준값(pivot)으로 설정\n",
    "    tail = arr[1:]              # 피벗을 제외한 나머지 리스트\n",
    "\n",
    "    # 피벗보다 작거나 같은 값들은 왼쪽 그룹\n",
    "    left = [x for x in tail if x <= pivot]\n",
    "    # 피벗보다 큰 값들은 오른쪽 그룹\n",
    "    right = [x for x in tail if x > pivot]\n",
    "\n",
    "    # 왼쪽 + 피벗 + 오른쪽을 재귀적으로 정렬하여 반환\n",
    "    return quick_sort(left) + [pivot] + quick_sort(right)"
   ]
  },
  {
   "cell_type": "code",
   "execution_count": 41,
   "id": "7e260e34",
   "metadata": {},
   "outputs": [
    {
     "data": {
      "text/plain": [
       "[1, 2, 4, 5, 7]"
      ]
     },
     "execution_count": 41,
     "metadata": {},
     "output_type": "execute_result"
    }
   ],
   "source": [
    "# 예시 입력\n",
    "ex = [7, 2, 5, 1, 4]\n",
    "\n",
    "quick_sort(ex)"
   ]
  },
  {
   "cell_type": "markdown",
   "id": "2406c3ba",
   "metadata": {},
   "source": [
    "### 전략"
   ]
  },
  {
   "cell_type": "markdown",
   "id": "4a2eaee2",
   "metadata": {},
   "source": []
  },
  {
   "cell_type": "code",
   "execution_count": null,
   "id": "b048d9c5",
   "metadata": {},
   "outputs": [],
   "source": []
  }
 ],
 "metadata": {
  "kernelspec": {
   "display_name": "Python 3",
   "language": "python",
   "name": "python3"
  },
  "language_info": {
   "codemirror_mode": {
    "name": "ipython",
    "version": 3
   },
   "file_extension": ".py",
   "mimetype": "text/x-python",
   "name": "python",
   "nbconvert_exporter": "python",
   "pygments_lexer": "ipython3",
   "version": "3.13.2"
  }
 },
 "nbformat": 4,
 "nbformat_minor": 5
}
