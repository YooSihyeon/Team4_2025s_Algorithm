{
 "cells": [
  {
   "cell_type": "code",
   "execution_count": 1,
   "id": "6cdb689c",
   "metadata": {},
   "outputs": [
    {
     "name": "stdout",
     "output_type": "stream",
     "text": [
      "정렬된 정수 리스트:\n",
      "[-1000, -999, -900, -888, -850, -777, -700, -650, -600, -500, -450, -350, -300, -250, -200, -100, -77, -50, -25, -20, -15, -10, -4, -1, 0, 1, 2, 3, 4, 5, 6, 7, 10, 15, 33, 35, 40, 45, 55, 65, 70, 75, 85, 95, 99, 100, 300, 400, 500, 700, 999]\n",
      "\n",
      "총합: -5967\n"
     ]
    }
   ],
   "source": [
    "shuffled_list = [\n",
    "    \"-900\", \"3\", \"baz\", \"six^\", \"2\", \"65\", \"comma,\", \"0\", \"adipiscing\", \"-500\",\n",
    "    \"space \", \"foo\", \"15\", \"75\", \"-100\", \"10\", \"one!\", \"lorem\", \"one\", \"-600\",\n",
    "    \"-450\", \"bar\", \"world\", \"five%\", \"star*\", \"ten\", \"four$\", \"500\", \"95\", \"thousand\",\n",
    "    \"300\", \"-50\", \"-25\", \"70\", \"minus\", \"xyz\", \"-200\", \"abc!\", \"do\", \"-888\",\n",
    "    \"35\", \"incididunt\", \"400\", \"7\", \"700\", \"-20\", \"100\", \"500\", \"100\", \"hello\",\n",
    "    \"3a\", \"55\", \"three#\", \"-350\", \"-10\", \"five\", \"4\", \"-4\", \"-700\", \"2\",\n",
    "    \"abc\", \"xyz\", \"-250\", \"2\", \"zero\", \"-650\", \"-15\", \"ten)\", \"consectetur\", \"-1\",\n",
    "    \"45\", \"eight*\", \"elit\", \"-77\", \"-50\", \"ten\", \"0\", \"underscore_\", \"four\", \"-100\",\n",
    "    \"-300\", \"-10\", \"40\", \"-850\", \"seven&\", \"700\", \"-200\", \"amet\", \"-25\", \"1\",\n",
    "    \"33\", \"85\", \"dolore\", \"nine(\", \"99\", \"dolor\", \"6\", \"-999\", \"3\", \"baz\",\n",
    "    \"lorem\", \"six^\", \"bar\", \"seven&\", \"100\", \"xyz\", \"two@\", \"adipiscing\", \"-200\", \"abc!\",\n",
    "    \"-1000\", \"nine(\", \"5\", \"-850\", \"consectetur\", \"999\", \"bar\", \"xyz\", \"-700\", \"999\",\n",
    "    \"foo\", \"plus\", \"70\", \"-900\", \"-20\", \"-250\", \"incididunt\", \"three#\", \"one!\", \"hello\",\n",
    "    \"six^\", \"1\", \"-777\", \"abc\", \"comma,\", \"cat\", \"bar\", \"baz\", \"baz\", \"3a\",\n",
    "    \"abc123\", \"-500\", \"7\", \"-650\", \"-300\", \"hello\", \"bar\", \"NaN\", \"999\", \"space \",\n",
    "    \"999\", \"star*\", \"ten\", \"-450\", \"underscore_\", \"three#\", \"baz\", \"five\", \"-100\", \"-1000\",\n",
    "    \"-100\", \"baz\", \"one\", \"1.5\", \"nine(\", \"-15\", \"five%\", \"5\", \"six^\", \"-300\",\n",
    "    \"consectetur\", \"-100\", \"cat\", \"eight*\", \"baz\", \"baz\", \"space \", \"baz\", \"baz\", \"baz\"\n",
    "]\n",
    "\n",
    "def is_integer_string(s):\n",
    "    try:\n",
    "        int(s)\n",
    "        return True\n",
    "    except ValueError:\n",
    "        return False\n",
    "\n",
    "# 1. 정수로 변환 가능한 문자열만 추출하여 int로 변환\n",
    "int_values = []\n",
    "for item in shuffled_list:\n",
    "    if is_integer_string(item):\n",
    "        int_values.append(int(item))\n",
    "\n",
    "# 2. 중복 제거\n",
    "unique_int_values = list(set(int_values))\n",
    "\n",
    "# 3. 선택 정렬 구현\n",
    "# 선택 정렬은 작은 값부터 하나씩 앞자리에 정렬하는 방식으로,\n",
    "# 구현이 간단하고 데이터가 많지 않은 경우 적합함 (본 문제의 데이터 크기에는 충분)\n",
    "def selection_sort(arr):\n",
    "    n = len(arr)\n",
    "    for i in range(n):\n",
    "        min_idx = i\n",
    "        for j in range(i + 1, n):\n",
    "            if arr[j] < arr[min_idx]:\n",
    "                min_idx = j\n",
    "        # 최소값과 i 위치의 값 교환\n",
    "        arr[i], arr[min_idx] = arr[min_idx], arr[i]\n",
    "    return arr\n",
    "\n",
    "# 정렬 수행\n",
    "sorted_int_values = selection_sort(unique_int_values)\n",
    "\n",
    "# 4. 총합 계산\n",
    "total_sum = sum(sorted_int_values)\n",
    "\n",
    "# 5. 결과 출력\n",
    "print(\"정렬된 정수 리스트:\")\n",
    "print(sorted_int_values)\n",
    "print(\"\\n총합:\", total_sum)"
   ]
  }
 ],
 "metadata": {
  "kernelspec": {
   "display_name": "Python 3",
   "language": "python",
   "name": "python3"
  },
  "language_info": {
   "codemirror_mode": {
    "name": "ipython",
    "version": 3
   },
   "file_extension": ".py",
   "mimetype": "text/x-python",
   "name": "python",
   "nbconvert_exporter": "python",
   "pygments_lexer": "ipython3",
   "version": "3.13.2"
  }
 },
 "nbformat": 4,
 "nbformat_minor": 5
}
