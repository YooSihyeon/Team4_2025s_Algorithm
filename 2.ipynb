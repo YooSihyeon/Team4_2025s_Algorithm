{
 "cells": [
  {
   "cell_type": "markdown",
   "id": "7149ca3c",
   "metadata": {},
   "source": [
    "### 문제 2: 이진 탐색 기반 탐지"
   ]
  },
  {
   "cell_type": "markdown",
   "id": "12f1d8db",
   "metadata": {},
   "source": [
    "#### 반복문 기반 (Iterative)"
   ]
  },
  {
   "cell_type": "code",
   "execution_count": 5,
   "id": "bda33681",
   "metadata": {},
   "outputs": [],
   "source": [
    "def binary_search(n, arr, target):\n",
    "    # 정렬된 리스트에서 이진 탐색\n",
    "    left, right = 0, n - 1\n",
    "\n",
    "    while left <= right:\n",
    "        mid = (left + right) // 2  # 가운데 인덱스를 구함\n",
    "\n",
    "        if arr[mid] == target:\n",
    "            return \"YES\"           # 값을 찾으면 즉시 반환\n",
    "        elif arr[mid] < target:\n",
    "            left = mid + 1         # 타겟이 오른쪽에 있을 경우\n",
    "        else:\n",
    "            right = mid - 1        # 타겟이 왼쪽에 있을 경우\n",
    "\n",
    "    return \"NO\"                    # 찾지 못하고 루프가 끝난 경우\n"
   ]
  },
  {
   "cell_type": "code",
   "execution_count": null,
   "id": "57a2e787",
   "metadata": {},
   "outputs": [
    {
     "name": "stdout",
     "output_type": "stream",
     "text": [
      "YES\n"
     ]
    }
   ],
   "source": [
    "n = 7\n",
    "arr = [1, 3, 5, 7, 9, 11, 13]  # 오름차순 정렬된 리스트\n",
    "target = 5                     # 탐색할 값\n",
    "\n",
    "result = binary_search(n, arr, target)\n",
    "print(result)  # 출력: YES"
   ]
  },
  {
   "cell_type": "markdown",
   "id": "99d4ebc7",
   "metadata": {},
   "source": [
    "#### 재귀 기반 (Recursive)"
   ]
  },
  {
   "cell_type": "code",
   "execution_count": 8,
   "id": "9d58f505",
   "metadata": {},
   "outputs": [],
   "source": [
    "def binary_search_recursive(arr, target, left, right):\n",
    "    # base case: 탐색 범위가 없으면 NO\n",
    "    if left > right:\n",
    "        return \"NO\"\n",
    "    \n",
    "    mid = (left + right) // 2  # 중간 인덱스 계산\n",
    "\n",
    "    if arr[mid] == target:\n",
    "        return \"YES\"  # 값 찾았을 때\n",
    "    elif arr[mid] < target:\n",
    "        return binary_search_recursive(arr, target, mid + 1, right)  # 오른쪽 반 탐색\n",
    "    else:\n",
    "        return binary_search_recursive(arr, target, left, mid - 1)   # 왼쪽 반 탐색\n"
   ]
  },
  {
   "cell_type": "code",
   "execution_count": 11,
   "id": "a6add7a5",
   "metadata": {},
   "outputs": [
    {
     "data": {
      "text/plain": [
       "'YES'"
      ]
     },
     "execution_count": 11,
     "metadata": {},
     "output_type": "execute_result"
    }
   ],
   "source": [
    "# 예제 입력\n",
    "arr = [1, 3, 5, 7, 9, 11, 13]\n",
    "target = 5\n",
    "\n",
    "# 실행\n",
    "result = binary_search_recursive(arr, target, 0, len(arr) - 1)\n",
    "result"
   ]
  },
  {
   "cell_type": "code",
   "execution_count": 1,
   "id": "850b5508",
   "metadata": {},
   "outputs": [
    {
     "data": {
      "text/plain": [
       "(5, 8, ['cat', 'cater', 'category'])"
      ]
     },
     "execution_count": 1,
     "metadata": {},
     "output_type": "execute_result"
    }
   ],
   "source": [
    "\n",
    "# 1. get_next_prefix: 주어진 접두사 다음 문자열 생성\n",
    "def get_next_prefix(prefix: str) -> str:\n",
    "    s = list(prefix)\n",
    "    for i in reversed(range(len(s))):\n",
    "        if s[i] != 'z':\n",
    "            s[i] = chr(ord(s[i]) + 1)\n",
    "            return ''.join(s[:i+1])  # 증가된 부분까지만 유지\n",
    "    return 'a' * (len(s) + 1)  # 모두 'z'일 경우 → 길이 1 증가한 'aaa' 형태\n",
    "\n",
    "# 2. lower_bound: prefix 이상이 처음 나오는 위치 (이진 탐색)\n",
    "def find_lower_bound(words, prefix):\n",
    "    low, high = 0, len(words)\n",
    "    while low < high:\n",
    "        mid = (low + high) // 2\n",
    "        if words[mid] < prefix:\n",
    "            low = mid + 1\n",
    "        else:\n",
    "            high = mid\n",
    "    return low\n",
    "\n",
    "# 3. upper_bound: prefix로 시작하지 않는 첫 단어 위치\n",
    "def find_upper_bound(words, prefix):\n",
    "    next_prefix = get_next_prefix(prefix)\n",
    "    low, high = 0, len(words)\n",
    "    while low < high:\n",
    "        mid = (low + high) // 2\n",
    "        if words[mid] < next_prefix:\n",
    "            low = mid + 1\n",
    "        else:\n",
    "            high = mid\n",
    "    return low\n",
    "\n",
    "# 예제 테스트\n",
    "words = [\"apple\", \"banana\", \"car\", \"card\", \"carrot\", \"cat\", \"cater\", \"category\", \"dog\"]\n",
    "prefix = \"cat\"\n",
    "\n",
    "lower = find_lower_bound(words, prefix)\n",
    "upper = find_upper_bound(words, prefix)\n",
    "matched_words = words[lower:upper]\n",
    "\n",
    "lower, upper, matched_words\n"
   ]
  },
  {
   "cell_type": "code",
   "execution_count": 2,
   "id": "4e530855",
   "metadata": {},
   "outputs": [
    {
     "data": {
      "text/plain": [
       "['cat', 'cater', 'category']"
      ]
     },
     "execution_count": 2,
     "metadata": {},
     "output_type": "execute_result"
    }
   ],
   "source": [
    "# prefix_search 전체 함수 구성 (최종 단계)\n",
    "\n",
    "def prefix_search(words, prefix):\n",
    "    # 내부 도우미 함수: get_next_prefix\n",
    "    def get_next_prefix(s: str) -> str:\n",
    "        s = list(s)\n",
    "        for i in reversed(range(len(s))):\n",
    "            if s[i] != 'z':\n",
    "                s[i] = chr(ord(s[i]) + 1)\n",
    "                return ''.join(s[:i+1])\n",
    "        return 'a' * (len(s) + 1)\n",
    "\n",
    "    # lower_bound 함수: prefix 이상인 첫 단어 위치\n",
    "    def find_lower_bound(words, prefix):\n",
    "        low, high = 0, len(words)\n",
    "        while low < high:\n",
    "            mid = (low + high) // 2\n",
    "            if words[mid] < prefix:\n",
    "                low = mid + 1\n",
    "            else:\n",
    "                high = mid\n",
    "        return low\n",
    "\n",
    "    # upper_bound 함수: prefix 다음 접두사 이상인 첫 단어 위치\n",
    "    def find_upper_bound(words, prefix):\n",
    "        next_prefix = get_next_prefix(prefix)\n",
    "        low, high = 0, len(words)\n",
    "        while low < high:\n",
    "            mid = (low + high) // 2\n",
    "            if words[mid] < next_prefix:\n",
    "                low = mid + 1\n",
    "            else:\n",
    "                high = mid\n",
    "        return low\n",
    "\n",
    "    # 시작과 끝 인덱스 구하기\n",
    "    start = find_lower_bound(words, prefix)\n",
    "    end = find_upper_bound(words, prefix)\n",
    "\n",
    "    # 접두사로 시작하는 단어인지 직접 확인 (startswith 없이 구현)\n",
    "    result = []\n",
    "    for i in range(start, end):\n",
    "        word = words[i]\n",
    "        # 직접 한 글자씩 비교\n",
    "        is_prefix = True\n",
    "        if len(word) < len(prefix):\n",
    "            continue\n",
    "        for j in range(len(prefix)):\n",
    "            if word[j] != prefix[j]:\n",
    "                is_prefix = False\n",
    "                break\n",
    "        if is_prefix:\n",
    "            result.append(word)\n",
    "    return result\n",
    "\n",
    "# 테스트 실행\n",
    "words = [\"apple\", \"banana\", \"car\", \"card\", \"carrot\", \"cat\", \"cater\", \"category\", \"dog\"]\n",
    "prefix = \"cat\"\n",
    "prefix_search(words, prefix)\n"
   ]
  },
  {
   "cell_type": "code",
   "execution_count": 3,
   "id": "ad9f70f5",
   "metadata": {},
   "outputs": [
    {
     "data": {
      "text/plain": [
       "['cat', 'cater', 'category']"
      ]
     },
     "execution_count": 3,
     "metadata": {},
     "output_type": "execute_result"
    }
   ],
   "source": [
    "# startswith()를 사용하는 간단한 버전의 prefix_search 함수 구현\n",
    "\n",
    "def prefix_search_with_startswith(words, prefix):\n",
    "    # lower_bound: prefix 이상이 처음 나오는 위치\n",
    "    def find_lower_bound(words, prefix):\n",
    "        low, high = 0, len(words)\n",
    "        while low < high:\n",
    "            mid = (low + high) // 2\n",
    "            if words[mid] < prefix:\n",
    "                low = mid + 1\n",
    "            else:\n",
    "                high = mid\n",
    "        return low\n",
    "\n",
    "    # get_next_prefix: prefix 다음 문자열 생성\n",
    "    def get_next_prefix(s: str) -> str:\n",
    "        s = list(s)\n",
    "        for i in reversed(range(len(s))):\n",
    "            if s[i] != 'z':\n",
    "                s[i] = chr(ord(s[i]) + 1)\n",
    "                return ''.join(s[:i+1])\n",
    "        return 'a' * (len(s) + 1)\n",
    "\n",
    "    # upper_bound: prefix로 시작하지 않는 첫 단어 위치\n",
    "    def find_upper_bound(words, prefix):\n",
    "        next_prefix = get_next_prefix(prefix)\n",
    "        low, high = 0, len(words)\n",
    "        while low < high:\n",
    "            mid = (low + high) // 2\n",
    "            if words[mid] < next_prefix:\n",
    "                low = mid + 1\n",
    "            else:\n",
    "                high = mid\n",
    "        return low\n",
    "\n",
    "    # 시작/끝 범위 구하고 접두사로 시작하는 단어만 필터링 (startswith 사용)\n",
    "    start = find_lower_bound(words, prefix)\n",
    "    end = find_upper_bound(words, prefix)\n",
    "\n",
    "    return [word for word in words[start:end] if word.startswith(prefix)]\n",
    "\n",
    "# 테스트 실행\n",
    "words = [\"apple\", \"banana\", \"car\", \"card\", \"carrot\", \"cat\", \"cater\", \"category\", \"dog\"]\n",
    "prefix = \"cat\"\n",
    "prefix_search_with_startswith(words, prefix)\n"
   ]
  }
 ],
 "metadata": {
  "kernelspec": {
   "display_name": "Python 3",
   "language": "python",
   "name": "python3"
  },
  "language_info": {
   "codemirror_mode": {
    "name": "ipython",
    "version": 3
   },
   "file_extension": ".py",
   "mimetype": "text/x-python",
   "name": "python",
   "nbconvert_exporter": "python",
   "pygments_lexer": "ipython3",
   "version": "3.13.2"
  }
 },
 "nbformat": 4,
 "nbformat_minor": 5
}
