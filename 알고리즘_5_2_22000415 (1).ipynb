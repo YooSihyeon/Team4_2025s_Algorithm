{
  "nbformat": 4,
  "nbformat_minor": 0,
  "metadata": {
    "colab": {
      "provenance": []
    },
    "kernelspec": {
      "name": "python3",
      "display_name": "Python 3"
    },
    "language_info": {
      "name": "python"
    }
  },
  "cells": [
    {
      "cell_type": "markdown",
      "source": [
        "# 5-2 : 초고속 검색 시스템 구축하기"
      ],
      "metadata": {
        "id": "JxW7229S-GJY"
      }
    },
    {
      "cell_type": "markdown",
      "source": [
        "# 1."
      ],
      "metadata": {
        "id": "1a5wY-P58_QH"
      }
    },
    {
      "cell_type": "markdown",
      "source": [
        "## Step1"
      ],
      "metadata": {
        "id": "tfin50OSq-MG"
      }
    },
    {
      "cell_type": "code",
      "source": [
        "# Step 1: 데이터 불러오기\n",
        "\n",
        "# 문자열 데이터 리스트 생성\n",
        "# 이 리스트는 사전 순 정렬 상태이며, 이후 이진 탐색 기반 접두사 검색에 사용됩니다.\n",
        "word_list = [\n",
        "    \"apple\",      # 과일\n",
        "    \"appliance\",  # 가전제품\n",
        "    \"banana\",     # 과일\n",
        "    \"band\",       # 밴드(음악, 머리끈 등)\n",
        "    \"bandana\",    # 반다나 (머리장식)\n",
        "    \"can\",        # 캔\n",
        "    \"candle\",     # 양초\n",
        "    \"candy\",      # 사탕\n",
        "    \"cap\",        # 모자\n",
        "    \"cape\"        # 망토\n",
        "]\n",
        "\n",
        "# 사전 순 정렬 확인\n",
        "# 이미 정렬되어 있지만, 만약 정렬이 되어 있지 않다면 다음 코드로 정렬할 수 있습니다.\n",
        "# word_list.sort()\n",
        "\n",
        "# 확인 출력\n",
        "print(\"Step 1: 정렬된 단어 리스트 로딩 완료\")\n",
        "print(\"단어 수:\", len(word_list))\n",
        "print(\"단어 목록:\", word_list)"
      ],
      "metadata": {
        "id": "4IRLhkcdxkeH"
      },
      "execution_count": null,
      "outputs": []
    },
    {
      "cell_type": "markdown",
      "source": [
        "## Step2"
      ],
      "metadata": {
        "id": "xfkH9TUJrHXM"
      }
    },
    {
      "cell_type": "code",
      "source": [
        "# Step 2: 선형 탐색 함수\n",
        "# string startswith 함수 사용\n",
        "def linear_prefix_search(words, prefix):\n",
        "    \"\"\"\n",
        "    주어진 단어 리스트에서 특정 접두사(prefix)로 시작하는 모든 단어를 찾아 반환합니다.\n",
        "    시간 복잡도: O(n) - 모든 단어를 한 번씩 검사\n",
        "\n",
        "    Parameters:\n",
        "    words (list of str): 검색 대상 단어 리스트\n",
        "    prefix (str): 접두사\n",
        "\n",
        "    Returns:\n",
        "    list of str: 접두사로 시작하는 단어들\n",
        "    \"\"\"\n",
        "    result = []  # 결과를 저장할 리스트\n",
        "\n",
        "    # 단어 리스트를 처음부터 끝까지 하나씩 확인\n",
        "    for word in words:\n",
        "        # 단어가 prefix로 시작하면 결과 리스트에 추가\n",
        "        if word.startswith(prefix):\n",
        "            result.append(word)\n",
        "\n",
        "    return result"
      ],
      "metadata": {
        "id": "PT8UkuxUzuNh"
      },
      "execution_count": 31,
      "outputs": []
    },
    {
      "cell_type": "code",
      "source": [
        "# 테스트\n",
        "matches = linear_prefix_search(word_list, \"ban\")\n",
        "print(\"선형 탐색 결과:\", matches)"
      ],
      "metadata": {
        "colab": {
          "base_uri": "https://localhost:8080/"
        },
        "id": "-eugvz0ezpBJ",
        "outputId": "8d36218d-121a-4dcc-9035-8e0f3a454957"
      },
      "execution_count": 32,
      "outputs": [
        {
          "output_type": "stream",
          "name": "stdout",
          "text": [
            "선형 탐색 결과: ['banana', 'band', 'bandana']\n"
          ]
        }
      ]
    },
    {
      "cell_type": "markdown",
      "source": [
        "## Step3"
      ],
      "metadata": {
        "id": "lvnieKQYrJXK"
      }
    },
    {
      "cell_type": "markdown",
      "source": [
        "- 오류수정 : 강의 자료에는 binary_prefix_search() 함수의 선언과 내용이 분리되어 있는 오류가 있었음"
      ],
      "metadata": {
        "id": "yCu-pUOp0gIN"
      }
    },
    {
      "cell_type": "code",
      "source": [
        "# Step 3: 이진 탐색 기반 접두사 탐색\n",
        "def lower_bound(words, prefix):\n",
        "    \"\"\"\n",
        "    접두사(prefix)보다 **크거나 같은 첫 번째 인덱스**를 찾는 이진 탐색 함수.\n",
        "    예: words = ['apple', 'banana', 'cap'], prefix = 'ban'일 때,\n",
        "        반환값은 'banana'가 위치한 인덱스 1\n",
        "    \"\"\"\n",
        "    # 탐색 범위의 시작(left)과 끝(right)을 설정\n",
        "    left, right = 0, len(words)  # right는 실제 마지막 인덱스 + 1\n",
        "\n",
        "    # left가 right보다 작을 때만 반복 (탐색 범위가 남아 있을 때)\n",
        "    while left < right:\n",
        "        # 중간 지점 계산\n",
        "        mid = (left + right) // 2\n",
        "        # 중간 값이 prefix보다 작으면, 찾는 값은 오른쪽에 있음 → left를 mid + 1로 이동\n",
        "        if words[mid] < prefix:\n",
        "            left = mid + 1\n",
        "        else:\n",
        "            # 중간 값이 prefix 이상이면, mid도 후보이므로 right를 mid로 이동\n",
        "            right = mid\n",
        "\n",
        "    # left == right가 되는 순간, prefix 이상인 첫 번째 인덱스를 의미\n",
        "    return left\n",
        "\n",
        "def binary_prefix_search(words, prefix):\n",
        "    \"\"\"\n",
        "    정렬된 문자열 리스트에서 이진 탐색을 활용해\n",
        "    특정 접두사로 시작하는 모든 단어를 찾아 반환합니다.\n",
        "\n",
        "    시간 복잡도: O(log n + k)\n",
        "    - log n: 시작 인덱스 찾기 (이진 탐색)\n",
        "    - k: 접두사로 시작하는 단어 개수\n",
        "\n",
        "    Parameters:\n",
        "    words (list of str): 사전 순으로 정렬된 단어 리스트\n",
        "    prefix (str): 찾고자 하는 접두사\n",
        "\n",
        "    Returns:\n",
        "    list of str: prefix로 시작하는 단어들의 리스트\n",
        "    \"\"\"\n",
        "    result = []\n",
        "    start_index = lower_bound(words, prefix)\n",
        "\n",
        "    # start_index부터 하나씩 검사하며 접두사가 일치하면 결과에 추가\n",
        "    for i in range(start_index, len(words)):\n",
        "        if words[i].startswith(prefix):\n",
        "            result.append(words[i])\n",
        "        else:\n",
        "            break # 접두사가 일치하지 않는 순간 종료 (정렬되어 있으므로)\n",
        "\n",
        "    return result"
      ],
      "metadata": {
        "id": "AijkXsFcnr9m"
      },
      "execution_count": 37,
      "outputs": []
    },
    {
      "cell_type": "code",
      "source": [
        "matches = binary_prefix_search(word_list, \"ban\")\n",
        "print(\"이진 탐색 결과:\", matches)"
      ],
      "metadata": {
        "colab": {
          "base_uri": "https://localhost:8080/"
        },
        "id": "n-oSRMnu02WW",
        "outputId": "e99edfa4-ab59-4696-8476-9a5bd876a49b"
      },
      "execution_count": 38,
      "outputs": [
        {
          "output_type": "stream",
          "name": "stdout",
          "text": [
            "이진 탐색 결과: ['banana', 'band', 'bandana']\n"
          ]
        }
      ]
    },
    {
      "cell_type": "markdown",
      "source": [
        "## Step4"
      ],
      "metadata": {
        "id": "W4z9jSVxrKof"
      }
    },
    {
      "cell_type": "code",
      "source": [
        "# 전역 캐시 딕셔너리 선언 (접두사 → 결과 리스트)\n",
        "search_cache = {}\n",
        "\n",
        "def cached_search(prefix):\n",
        "    \"\"\"\n",
        "    접두사 검색을 캐시를 활용하여 빠르게 처리하는 함수.\n",
        "    - 캐시에 결과가 있으면 바로 반환\n",
        "    - 없으면 binary_prefix_search로 결과 생성 후 저장\n",
        "\n",
        "    Parameters:\n",
        "    prefix (str): 검색할 접두사\n",
        "\n",
        "    Returns:\n",
        "    list of str: 접두사로 시작하는 단어들\n",
        "    \"\"\"\n",
        "    # 1. 캐시에 prefix가 이미 존재하는 경우\n",
        "    if prefix in search_cache:\n",
        "        print(f\"✅ [캐시 사용] '{prefix}' 결과 반환\")\n",
        "        return search_cache[prefix]\n",
        "\n",
        "    # 2. 없으면 이진 탐색 함수로 결과 생성\n",
        "    print(f\"🔍 [이진 탐색 수행] '{prefix}' 검색 중...\")\n",
        "    result = binary_prefix_search(word_list, prefix)\n",
        "\n",
        "    # 3. 캐시에 저장 후 반환\n",
        "    search_cache[prefix] = result\n",
        "    return result"
      ],
      "metadata": {
        "id": "z7271_SC1B3k"
      },
      "execution_count": 35,
      "outputs": []
    },
    {
      "cell_type": "code",
      "source": [
        "# 처음 검색: 이진 탐색 수행\n",
        "print(cached_search(\"ban\"))\n",
        "\n",
        "# 다시 검색: 캐시 사용\n",
        "print(cached_search(\"ban\"))\n",
        "\n",
        "# 다른 접두사 검색\n",
        "print(cached_search(\"cap\"))"
      ],
      "metadata": {
        "colab": {
          "base_uri": "https://localhost:8080/"
        },
        "id": "de6NttOE1JAp",
        "outputId": "39754fc4-15b7-4b13-f080-e18ba76fec34"
      },
      "execution_count": 36,
      "outputs": [
        {
          "output_type": "stream",
          "name": "stdout",
          "text": [
            "🔍 [이진 탐색 수행] 'ban' 검색 중...\n",
            "['banana', 'band', 'bandana']\n",
            "✅ [캐시 사용] 'ban' 결과 반환\n",
            "['banana', 'band', 'bandana']\n",
            "🔍 [이진 탐색 수행] 'cap' 검색 중...\n",
            "['cap', 'cape']\n"
          ]
        }
      ]
    },
    {
      "cell_type": "markdown",
      "source": [
        "## Step5"
      ],
      "metadata": {
        "id": "w62JPpBerL1U"
      }
    },
    {
      "cell_type": "code",
      "source": [
        "# 전역 검색 로그 리스트 선언\n",
        "search_log = []\n",
        "\n",
        "def log_search(prefix, result):\n",
        "    \"\"\"\n",
        "    사용자의 검색 이력을 로그에 저장합니다.\n",
        "    - 검색 접두사와 해당 결과를 튜플로 기록\n",
        "\n",
        "    Parameters:\n",
        "    prefix (str): 사용자가 입력한 접두사\n",
        "    result (list of str): 접두사 검색 결과\n",
        "    \"\"\"\n",
        "    # 튜플 형태로 (prefix, result) 저장\n",
        "    search_log.append((prefix, result))"
      ],
      "metadata": {
        "id": "K4ZqV49l1WYQ"
      },
      "execution_count": 19,
      "outputs": []
    },
    {
      "cell_type": "code",
      "source": [
        "# 캐시 기능과 연계하여 사용\n",
        "result1 = cached_search(\"ban\")\n",
        "log_search(\"ban\", result1)\n",
        "\n",
        "result2 = cached_search(\"cap\")\n",
        "log_search(\"cap\", result2)\n",
        "\n",
        "# 로그 출력\n",
        "print(\"📜 검색 로그:\")\n",
        "for entry in search_log:\n",
        "    print(entry)"
      ],
      "metadata": {
        "colab": {
          "base_uri": "https://localhost:8080/"
        },
        "id": "mWK66Lm51WwA",
        "outputId": "839c44bf-b9da-4ace-bf66-f3188dfc5374"
      },
      "execution_count": 20,
      "outputs": [
        {
          "output_type": "stream",
          "name": "stdout",
          "text": [
            "✅ [캐시 사용] 'ban' 결과 반환\n",
            "✅ [캐시 사용] 'cap' 결과 반환\n",
            "📜 검색 로그:\n",
            "('ban', ['banana', 'band', 'bandana'])\n",
            "('cap', ['cap', 'cape'])\n"
          ]
        }
      ]
    },
    {
      "cell_type": "markdown",
      "source": [
        "## Step6"
      ],
      "metadata": {
        "id": "yo5XUDm2rM7h"
      }
    },
    {
      "cell_type": "code",
      "source": [
        "# Step 6: 단순 해시 함수 직접 구현\n",
        "def simple_hash(word, table_size):\n",
        "    \"\"\"\n",
        "    문자열의 각 문자의 아스키 값을 모두 더한 후\n",
        "    주어진 테이블 크기(table_size)로 나눈 나머지를 해시값으로 반환합니다.\n",
        "\n",
        "    Parameters:\n",
        "    word (str): 해시를 구할 문자열\n",
        "    table_size (int): 해시 테이블의 크기 (버킷 수)\n",
        "\n",
        "    Returns:\n",
        "    int: 계산된 해시 인덱스\n",
        "    \"\"\"\n",
        "    total = 0\n",
        "\n",
        "    # 문자열의 각 문자를 순회하며 아스키 값 누적\n",
        "    for ch in word:\n",
        "        total += ord(ch)\n",
        "\n",
        "    # 테이블 크기로 나눈 나머지를 해시값으로 반환\n",
        "    return total % table_size"
      ],
      "metadata": {
        "id": "RW4Jan9Nnr3J"
      },
      "execution_count": 24,
      "outputs": []
    },
    {
      "cell_type": "code",
      "source": [
        "table_size = 10\n",
        "\n",
        "words_to_hash = [\"apple\", \"banana\", \"cap\", \"candle\"]\n",
        "\n",
        "for w in words_to_hash:\n",
        "    h = simple_hash(w, table_size)\n",
        "    print(f\"단어: {w:8} → 해시값: {h}\")"
      ],
      "metadata": {
        "colab": {
          "base_uri": "https://localhost:8080/"
        },
        "id": "RFu75SAl5h-1",
        "outputId": "b7c27ffa-d3cd-4bbc-99d5-980b2b4f06ec"
      },
      "execution_count": 25,
      "outputs": [
        {
          "output_type": "stream",
          "name": "stdout",
          "text": [
            "단어: apple    → 해시값: 0\n",
            "단어: banana   → 해시값: 9\n",
            "단어: cap      → 해시값: 8\n",
            "단어: candle   → 해시값: 5\n"
          ]
        }
      ]
    },
    {
      "cell_type": "markdown",
      "source": [
        "## Step7"
      ],
      "metadata": {
        "id": "TAKVIHQ5rO6x"
      }
    },
    {
      "cell_type": "code",
      "source": [
        "# Step 7: 해시 테이블 삽입 (체이닝 방식)\n",
        "hash_table = [[] for _ in range(10)]\n",
        "\n",
        "def insert_to_hash_table(word):\n",
        "    table_size = len(hash_table)  # 해시 테이블의 크기\n",
        "    index = simple_hash(word, table_size)\n",
        "    if word not in hash_table[index]:\n",
        "        hash_table[index].append(word)\n",
        "        print(f\"'{word}' → 인덱스 {index}에 삽입 완료\")\n",
        "    else:\n",
        "        print(f\"'{word}'는 이미 인덱스 {index}에 존재\")\n",
        "\n",
        "for word in word_list:\n",
        "    insert_to_hash_table(word)"
      ],
      "metadata": {
        "colab": {
          "base_uri": "https://localhost:8080/"
        },
        "id": "HBQnuBDDqKjV",
        "outputId": "0bb1e619-2680-4f61-eb1f-3572d1ee34e9"
      },
      "execution_count": 22,
      "outputs": [
        {
          "output_type": "stream",
          "name": "stdout",
          "text": [
            "'apple' → 인덱스 0에 삽입 완료\n",
            "'appliance' → 인덱스 1에 삽입 완료\n",
            "'banana' → 인덱스 9에 삽입 완료\n",
            "'band' → 인덱스 5에 삽입 완료\n",
            "'bandana' → 인덱스 9에 삽입 완료\n",
            "'can' → 인덱스 6에 삽입 완료\n",
            "'candle' → 인덱스 5에 삽입 완료\n",
            "'candy' → 인덱스 7에 삽입 완료\n",
            "'cap' → 인덱스 8에 삽입 완료\n",
            "'cape' → 인덱스 9에 삽입 완료\n"
          ]
        }
      ]
    },
    {
      "cell_type": "code",
      "source": [
        "words = [\"apple\", \"banana\", \"candle\", \"cap\", \"cape\", \"band\", \"candy\"]\n",
        "\n",
        "for word in words:\n",
        "    insert_to_hash_table(word)\n",
        "\n",
        "print(\"\\n 현재 해시 테이블 상태:\")\n",
        "for i, bucket in enumerate(hash_table):\n",
        "    print(f\"인덱스 {i}: {bucket}\")"
      ],
      "metadata": {
        "colab": {
          "base_uri": "https://localhost:8080/"
        },
        "id": "ytCp8wkjskru",
        "outputId": "f9962631-0793-4b88-cc76-9312a8eda0ce"
      },
      "execution_count": 23,
      "outputs": [
        {
          "output_type": "stream",
          "name": "stdout",
          "text": [
            "'apple'는 이미 인덱스 0에 존재\n",
            "'banana'는 이미 인덱스 9에 존재\n",
            "'candle'는 이미 인덱스 5에 존재\n",
            "'cap'는 이미 인덱스 8에 존재\n",
            "'cape'는 이미 인덱스 9에 존재\n",
            "'band'는 이미 인덱스 5에 존재\n",
            "'candy'는 이미 인덱스 7에 존재\n",
            "\n",
            " 현재 해시 테이블 상태:\n",
            "인덱스 0: ['apple']\n",
            "인덱스 1: ['appliance']\n",
            "인덱스 2: []\n",
            "인덱스 3: []\n",
            "인덱스 4: []\n",
            "인덱스 5: ['band', 'candle']\n",
            "인덱스 6: ['can']\n",
            "인덱스 7: ['candy']\n",
            "인덱스 8: ['cap']\n",
            "인덱스 9: ['banana', 'bandana', 'cape']\n"
          ]
        }
      ]
    },
    {
      "cell_type": "markdown",
      "source": [
        "## Step8"
      ],
      "metadata": {
        "id": "i90EFsrqrQNw"
      }
    },
    {
      "cell_type": "code",
      "source": [
        "# Step 8: 해시 테이블을 이용한 단어 탐색\n",
        "def find_in_hash_table(word):\n",
        "    \"\"\"\n",
        "    주어진 단어가 해시 테이블에 존재하는지 여부를 반환합니다.\n",
        "    simple_hash로 인덱스를 구한 뒤, 해당 인덱스 리스트에서 선형 탐색을 수행합니다.\n",
        "\n",
        "    Parameters:\n",
        "    word (str): 찾고자 하는 단어\n",
        "\n",
        "    Returns:\n",
        "    bool: 단어가 존재하면 True, 없으면 False\n",
        "    \"\"\"\n",
        "    table_size = len(hash_table)  # 해시 테이블 크기\n",
        "    index = simple_hash(word, table_size)  # 단어의 해시 인덱스 계산\n",
        "\n",
        "    # 해당 인덱스(버킷)에 단어가 존재하는지 확인\n",
        "    if word in hash_table[index]:\n",
        "        print(f\"'{word}'는 해시 인덱스 {index}에 존재합니다.\")\n",
        "        return True\n",
        "    else:\n",
        "        print(f\"'{word}'는 해시 인덱스 {index}에 없습니다.\")\n",
        "        return False"
      ],
      "metadata": {
        "id": "8Sy-6o3u5s_7"
      },
      "execution_count": 26,
      "outputs": []
    },
    {
      "cell_type": "code",
      "source": [
        "print(find_in_hash_table(\"apple\"))     # True\n",
        "print(find_in_hash_table(\"appliance\")) # False (삽입 안 했음)\n",
        "print(find_in_hash_table(\"cap\"))       # True\n",
        "print(find_in_hash_table(\"ghost\"))     # False"
      ],
      "metadata": {
        "colab": {
          "base_uri": "https://localhost:8080/"
        },
        "id": "NzD2fxk_54C6",
        "outputId": "6662bfe9-6352-4a25-ce1c-693bca49143d"
      },
      "execution_count": 27,
      "outputs": [
        {
          "output_type": "stream",
          "name": "stdout",
          "text": [
            "'apple'는 해시 인덱스 0에 존재합니다.\n",
            "True\n",
            "'appliance'는 해시 인덱스 1에 존재합니다.\n",
            "True\n",
            "'cap'는 해시 인덱스 8에 존재합니다.\n",
            "True\n",
            "'ghost'는 해시 인덱스 9에 없습니다.\n",
            "False\n"
          ]
        }
      ]
    },
    {
      "cell_type": "markdown",
      "source": [
        "## Step9"
      ],
      "metadata": {
        "id": "CwlyHRv2rRLM"
      }
    },
    {
      "cell_type": "markdown",
      "source": [
        "- 오류 수정 : optimized_search() 함수가 정의되어 있지 않았음"
      ],
      "metadata": {
        "id": "0WC-tVE66UpE"
      }
    },
    {
      "cell_type": "code",
      "source": [
        "# Step 9: 최적화 검색 (통합)\n",
        "def optimized_search(prefix):\n",
        "    \"\"\"\n",
        "    최적화된 접두사 검색 함수입니다.\n",
        "\n",
        "    이 함수는 아래 3가지 기능을 통합하여 처리합니다:\n",
        "\n",
        "    1. 캐시(cache) 사용:\n",
        "       - 이전에 검색한 접두사는 해시 테이블(dict)을 통해 즉시 결과 반환 (O(1))\n",
        "       - 처음 보는 접두사는 binary_prefix_search()를 통해 검색 후 캐시에 저장\n",
        "\n",
        "    2. 검색 결과 로그(log) 저장:\n",
        "       - 사용자가 어떤 prefix를 검색했는지, 그 결과는 무엇이었는지를 search_log에 기록\n",
        "\n",
        "    3. 결과 반환:\n",
        "       - 최종적으로 사용자에게 접두사로 시작하는 단어 리스트를 반환\n",
        "\n",
        "    Parameters:\n",
        "    prefix (str): 사용자가 입력한 검색 접두사\n",
        "\n",
        "    Returns:\n",
        "    list of str: prefix로 시작하는 모든 단어 리스트\n",
        "    \"\"\"\n",
        "    # 1. 캐시 검색 또는 이진 탐색 실행\n",
        "    result = cached_search(prefix)\n",
        "\n",
        "    # 2. 검색 이력 로그에 저장\n",
        "    log_search(prefix, result)\n",
        "\n",
        "    # 3. 검색 결과 반환\n",
        "    return result\n"
      ],
      "metadata": {
        "id": "2mg5iS287CUz"
      },
      "execution_count": 28,
      "outputs": []
    },
    {
      "cell_type": "code",
      "source": [
        "# 테스트 케이스 실행\n",
        "print(optimized_search(\"ban\"))\n",
        "print(optimized_search(\"cap\"))\n",
        "print(optimized_search(\"ban\"))  # 캐시 HIT 확인\n",
        "print(optimized_search(\"app\"))\n",
        "\n",
        "# 최종 검색 로그 확인\n",
        "print(\"\\n📜 최종 검색 로그:\")\n",
        "for idx, entry in enumerate(search_log, 1):\n",
        "    print(f\"{idx}. {entry}\")"
      ],
      "metadata": {
        "colab": {
          "base_uri": "https://localhost:8080/"
        },
        "id": "t7nXfhRs6Q6a",
        "outputId": "66414d7c-daec-4178-d3d4-5a2e02eb0eb2"
      },
      "execution_count": 29,
      "outputs": [
        {
          "output_type": "stream",
          "name": "stdout",
          "text": [
            "✅ [캐시 사용] 'ban' 결과 반환\n",
            "['banana', 'band', 'bandana']\n",
            "✅ [캐시 사용] 'cap' 결과 반환\n",
            "['cap', 'cape']\n",
            "✅ [캐시 사용] 'ban' 결과 반환\n",
            "['banana', 'band', 'bandana']\n",
            "🔍 [이진 탐색 수행] 'app' 검색 중...\n",
            "['apple', 'appliance']\n",
            "\n",
            "📜 최종 검색 로그:\n",
            "1. ('ban', ['banana', 'band', 'bandana'])\n",
            "2. ('cap', ['cap', 'cape'])\n",
            "3. ('ban', ['banana', 'band', 'bandana'])\n",
            "4. ('cap', ['cap', 'cape'])\n",
            "5. ('ban', ['banana', 'band', 'bandana'])\n",
            "6. ('app', ['apple', 'appliance'])\n"
          ]
        }
      ]
    },
    {
      "cell_type": "markdown",
      "source": [
        "## Step10"
      ],
      "metadata": {
        "id": "ND1udpChrSju"
      }
    },
    {
      "cell_type": "code",
      "source": [
        "# Step 10: 전체 시나리오 실행\n",
        "\n",
        "print(\"\\n[시나리오 1] 'ban' 검색 → 결과 출력\")\n",
        "result1 = optimized_search(\"ban\")\n",
        "print(\"🔹 결과:\", result1)\n",
        "\n",
        "print(\"\\n[시나리오 2] 'app' 검색 → 결과 출력\")\n",
        "result2 = optimized_search(\"app\")\n",
        "print(\"🔹 결과:\", result2)\n",
        "\n",
        "print(\"\\n[시나리오 3] 'ban' 재검색 → 캐시에서 탐색 확인\")\n",
        "result3 = optimized_search(\"ban\")\n",
        "print(\"🔹 결과:\", result3)\n",
        "\n",
        "print(\"\\n[시나리오 4] 전체 검색 로그 출력\")\n",
        "for idx, entry in enumerate(search_log, 1):\n",
        "    prefix, results = entry\n",
        "    print(f\"{idx}. 접두사: '{prefix}' → 결과: {results}\")"
      ],
      "metadata": {
        "colab": {
          "base_uri": "https://localhost:8080/"
        },
        "id": "wM8SsTn2oNcb",
        "outputId": "8de6b471-4bcd-4ce0-e4b9-98332cb03185"
      },
      "execution_count": 30,
      "outputs": [
        {
          "output_type": "stream",
          "name": "stdout",
          "text": [
            "\n",
            "[시나리오 1] 'ban' 검색 → 결과 출력\n",
            "✅ [캐시 사용] 'ban' 결과 반환\n",
            "🔹 결과: ['banana', 'band', 'bandana']\n",
            "\n",
            "[시나리오 2] 'app' 검색 → 결과 출력\n",
            "✅ [캐시 사용] 'app' 결과 반환\n",
            "🔹 결과: ['apple', 'appliance']\n",
            "\n",
            "[시나리오 3] 'ban' 재검색 → 캐시에서 탐색 확인\n",
            "✅ [캐시 사용] 'ban' 결과 반환\n",
            "🔹 결과: ['banana', 'band', 'bandana']\n",
            "\n",
            "[시나리오 4] 전체 검색 로그 출력\n",
            "1. 접두사: 'ban' → 결과: ['banana', 'band', 'bandana']\n",
            "2. 접두사: 'cap' → 결과: ['cap', 'cape']\n",
            "3. 접두사: 'ban' → 결과: ['banana', 'band', 'bandana']\n",
            "4. 접두사: 'cap' → 결과: ['cap', 'cape']\n",
            "5. 접두사: 'ban' → 결과: ['banana', 'band', 'bandana']\n",
            "6. 접두사: 'app' → 결과: ['apple', 'appliance']\n",
            "7. 접두사: 'ban' → 결과: ['banana', 'band', 'bandana']\n",
            "8. 접두사: 'app' → 결과: ['apple', 'appliance']\n",
            "9. 접두사: 'ban' → 결과: ['banana', 'band', 'bandana']\n"
          ]
        }
      ]
    },
    {
      "cell_type": "markdown",
      "source": [
        "# 2."
      ],
      "metadata": {
        "id": "3IyO1wIR9Em_"
      }
    },
    {
      "cell_type": "markdown",
      "source": [
        "###1) simple_hash 대신 더 정교한 해시 함수로 성능 개선"
      ],
      "metadata": {
        "id": "C3ZX7Nkc-y8k"
      }
    },
    {
      "cell_type": "code",
      "source": [
        "import random\n",
        "import string\n",
        "from collections import defaultdict\n",
        "\n",
        "# 🔹 단순 해시 함수 (원본)\n",
        "def simple_hash(word, table_size):\n",
        "    return sum(ord(ch) for ch in word) % table_size\n",
        "\n",
        "# 🔹 개선된 해시 함수 (djb2)\n",
        "def better_hash(word, table_size):\n",
        "    hash_value = 5381\n",
        "    for ch in word:\n",
        "        hash_value = ((hash_value << 5) + hash_value) + ord(ch)  # hash * 33 + ch\n",
        "    return hash_value % table_size\n",
        "\n",
        "# 🔹 무작위 단어 생성 함수\n",
        "def generate_random_words(n, length=6):\n",
        "    return [''.join(random.choices(string.ascii_lowercase, k=length)) for _ in range(n)]\n",
        "\n",
        "# 🔹 충돌 횟수 계산 함수\n",
        "def test_collision_rate(hash_func, words, table_size):\n",
        "    hash_table = defaultdict(list)\n",
        "    collisions = 0\n",
        "    for word in words:\n",
        "        index = hash_func(word, table_size)\n",
        "        if hash_table[index]:  # 버킷이 비어 있지 않으면 충돌\n",
        "            collisions += 1\n",
        "        hash_table[index].append(word)\n",
        "    return collisions\n",
        "\n",
        "# 🔹 테스트 실행\n",
        "if __name__ == \"__main__\":\n",
        "    table_size = 100\n",
        "    test_words = generate_random_words(1000)  # 1000개 단어 생성\n",
        "\n",
        "    simple_collisions = test_collision_rate(simple_hash, test_words, table_size)\n",
        "    better_collisions = test_collision_rate(better_hash, test_words, table_size)\n",
        "\n",
        "    print(f\"🔍 simple_hash 충돌 횟수: {simple_collisions}\")\n",
        "    print(f\"✅ better_hash(djb2) 충돌 횟수: {better_collisions}\")\n"
      ],
      "metadata": {
        "colab": {
          "base_uri": "https://localhost:8080/"
        },
        "id": "20DvL45I-Lwh",
        "outputId": "1e1e5e3a-f57f-4cc5-d750-bdbf83f942c1"
      },
      "execution_count": 44,
      "outputs": [
        {
          "output_type": "stream",
          "name": "stdout",
          "text": [
            "🔍 simple_hash 충돌 횟수: 909\n",
            "✅ better_hash(djb2) 충돌 횟수: 900\n"
          ]
        }
      ]
    },
    {
      "cell_type": "markdown",
      "source": [
        "### 2) 입력 리스트를 10만 개 이상으로 확장해 성능 비교"
      ],
      "metadata": {
        "id": "IzCmv2c4-4XL"
      }
    },
    {
      "cell_type": "code",
      "source": [
        "import random\n",
        "import string\n",
        "import time\n",
        "\n",
        "# 무작위 단어 생성기\n",
        "def generate_random_words(n, length=6):\n",
        "    return [''.join(random.choices(string.ascii_lowercase, k=length)) for _ in range(n)]\n",
        "\n",
        "# 테스트용 단어 리스트 생성\n",
        "large_word_list = sorted(generate_random_words(100000))  # 정렬된 상태 유지\n",
        "\n",
        "# 성능 측정\n",
        "def test_binary_search_performance(words, prefix):\n",
        "    start = time.time()\n",
        "    binary_prefix_search(words, prefix)\n",
        "    end = time.time()\n",
        "    print(f\"[{prefix}] 검색 소요 시간: {end - start:.6f}초\")\n",
        "\n",
        "# 테스트 실행\n",
        "test_binary_search_performance(large_word_list, \"ab\")\n",
        "test_binary_search_performance(large_word_list, \"xyz\")\n"
      ],
      "metadata": {
        "colab": {
          "base_uri": "https://localhost:8080/"
        },
        "id": "gBwAblMj-8de",
        "outputId": "13e9dcbf-182c-4a9c-f5c9-64113ccf8ca1"
      },
      "execution_count": 40,
      "outputs": [
        {
          "output_type": "stream",
          "name": "stdout",
          "text": [
            "[ab] 검색 소요 시간: 0.000060초\n",
            "[xyz] 검색 소요 시간: 0.000011초\n"
          ]
        }
      ]
    },
    {
      "cell_type": "markdown",
      "source": [
        "### 3) 검색 결과에 자동 완성 기능 추가 (가장 많이 검색된 단어 추천)"
      ],
      "metadata": {
        "id": "JY859GsB-83H"
      }
    },
    {
      "cell_type": "code",
      "source": [
        "from collections import Counter\n",
        "\n",
        "# 🔹 추천 접두사 추출 (search_log 기반)\n",
        "def recommend_prefixes(log, top_n=5):\n",
        "    \"\"\"\n",
        "    자주 검색된 접두사 top-N 추천\n",
        "\n",
        "    Parameters:\n",
        "    log (list): (prefix, result) 로그\n",
        "    top_n (int): 추천 개수\n",
        "\n",
        "    Returns:\n",
        "    list of (prefix, count): 접두사와 검색 횟수\n",
        "    \"\"\"\n",
        "    counter = Counter(prefix for prefix, _ in log)\n",
        "    return counter.most_common(top_n)\n",
        "\n",
        "\n",
        "# 🔹 자동완성 단어 추천\n",
        "def autocomplete_words(prefix, words, max_n=5):\n",
        "    \"\"\"\n",
        "    접두사로 시작하는 단어 추천\n",
        "\n",
        "    Parameters:\n",
        "    prefix (str): 사용자 입력\n",
        "    words (list): 전체 단어 리스트 (정렬된 상태)\n",
        "    max_n (int): 추천 단어 최대 개수\n",
        "\n",
        "    Returns:\n",
        "    list: 추천 단어 리스트\n",
        "    \"\"\"\n",
        "    results = binary_prefix_search(words, prefix)\n",
        "    return results[:max_n]\n",
        "\n",
        "\n",
        "# 🔹 사용자 출력 예시\n",
        "def print_recommendations(prefix, word_list, search_log):\n",
        "    print(f\"\\n✅ 입력한 접두사: '{prefix}'\")\n",
        "\n",
        "    # 자동완성 단어 출력\n",
        "    print(\"🔎 자동완성 추천 단어:\")\n",
        "    for word in autocomplete_words(prefix, word_list):\n",
        "        print(f\"  • {word}\")\n",
        "\n",
        "    # 인기 검색 접두사 추천\n",
        "    print(\"\\n🔥 인기 검색 접두사:\")\n",
        "    for p, cnt in recommend_prefixes(search_log):\n",
        "        print(f\"  • '{p}' ({cnt}회 검색됨)\")\n"
      ],
      "metadata": {
        "id": "NyM0ueCb-_Wv"
      },
      "execution_count": 46,
      "outputs": []
    },
    {
      "cell_type": "code",
      "source": [
        "# 예시 시나리오: 검색 기록\n",
        "search_log = [\n",
        "    (\"ban\", [\"banana\", \"band\", \"bandana\"]),\n",
        "    (\"cap\", [\"cap\", \"cape\"]),\n",
        "    (\"ban\", [\"banana\", \"band\", \"bandana\"]),\n",
        "    (\"app\", [\"apple\", \"appliance\"]),\n",
        "    (\"app\", [\"apple\", \"appliance\"]),\n",
        "    (\"app\", [\"apple\", \"appliance\"]),\n",
        "]\n",
        "\n",
        "# 정렬된 단어 리스트\n",
        "word_list = sorted([\"apple\", \"appliance\", \"banana\", \"band\", \"bandana\", \"cap\", \"cape\", \"candle\", \"candy\"])\n",
        "\n",
        "# 실행\n",
        "print_recommendations(\"ap\", word_list, search_log)\n"
      ],
      "metadata": {
        "colab": {
          "base_uri": "https://localhost:8080/"
        },
        "id": "ZOYSQyWu_o9b",
        "outputId": "e23ed87d-adf3-4f6c-aaea-33b1b986f7c5"
      },
      "execution_count": 47,
      "outputs": [
        {
          "output_type": "stream",
          "name": "stdout",
          "text": [
            "\n",
            "✅ 입력한 접두사: 'ap'\n",
            "🔎 자동완성 추천 단어:\n",
            "  • apple\n",
            "  • appliance\n",
            "\n",
            "🔥 인기 검색 접두사:\n",
            "  • 'app' (3회 검색됨)\n",
            "  • 'ban' (2회 검색됨)\n",
            "  • 'cap' (1회 검색됨)\n"
          ]
        }
      ]
    }
  ]
}