{
 "cells": [
  {
   "cell_type": "code",
   "execution_count": 1,
   "id": "9eefd426",
   "metadata": {},
   "outputs": [
    {
     "data": {
      "text/plain": [
       "[(3, 3), (5, 3), (1, 2), (2, 2)]"
      ]
     },
     "execution_count": 1,
     "metadata": {},
     "output_type": "execute_result"
    }
   ],
   "source": [
    "from collections import Counter\n",
    "\n",
    "# 입력 데이터\n",
    "n = 10\n",
    "numbers = [5, 3, 5, 2, 5, 3, 2, 1, 3, 1]\n",
    "\n",
    "# 각 숫자의 등장 횟수 세기\n",
    "counter = Counter(numbers)\n",
    "\n",
    "# 정렬: 등장 횟수 내림차순, 값 오름차순 (두 기준)\n",
    "sorted_items = sorted(counter.items(), key=lambda x: (-x[1], x[0]))\n",
    "\n",
    "sorted_items\n"
   ]
  },
  {
   "cell_type": "code",
   "execution_count": null,
   "id": "9b1b6ee1",
   "metadata": {},
   "outputs": [],
   "source": []
  },
  {
   "cell_type": "code",
   "execution_count": null,
   "id": "b353b1eb",
   "metadata": {},
   "outputs": [],
   "source": []
  }
 ],
 "metadata": {
  "kernelspec": {
   "display_name": "Python 3",
   "language": "python",
   "name": "python3"
  },
  "language_info": {
   "codemirror_mode": {
    "name": "ipython",
    "version": 3
   },
   "file_extension": ".py",
   "mimetype": "text/x-python",
   "name": "python",
   "nbconvert_exporter": "python",
   "pygments_lexer": "ipython3",
   "version": "3.13.2"
  }
 },
 "nbformat": 4,
 "nbformat_minor": 5
}
