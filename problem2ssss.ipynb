{
 "cells": [
  {
   "cell_type": "code",
   "execution_count": 11,
   "id": "e84036e2",
   "metadata": {},
   "outputs": [],
   "source": [
    "lst = [31, -36, -47, 44, -15, -19, -22, -33, 44, -37, 36, 44, 19, -39, 25, 4, -46, -47, -39, -23,\n",
    " -21, 14, 27, -47, 21, -25, 41, 33, 39, 19, 3, -22, 7, 25, -15, -50, 47, -30, 39, 4,\n",
    " -7, -15, -31, -23, 47, -7, -37, -39, -2, -38, -5, -6, 27, -17, -45, 43, 8, 18, -35, -2,\n",
    " -40, 20, -13, 30, 29, -4, 23, -26, 40, -42, -45, 34, -21, 48, -13, -40, -21, -38, -2, -15,\n",
    " 8, 31, -4, -30, -3, -5, -24, 35, -16, 39, 37, 32, -41, 27, 31, -29, 18, 43, -19, -30]\n",
    "\n",
    "target = -15\n"
   ]
  },
  {
   "cell_type": "code",
   "execution_count": 13,
   "id": "449dba57",
   "metadata": {},
   "outputs": [],
   "source": [
    "def find_start_index(lst, target):\n",
    "    left, right = 0, len(lst) - 1\n",
    "    result = -1\n",
    "    while left <= right:\n",
    "        mid = (left + right) // 2\n",
    "        if lst[mid] < target:\n",
    "            left = mid + 1\n",
    "        else:\n",
    "            if lst[mid] == target:\n",
    "                result = mid\n",
    "            right = mid - 1\n",
    "    return result"
   ]
  },
  {
   "cell_type": "code",
   "execution_count": 9,
   "id": "8137627b",
   "metadata": {},
   "outputs": [],
   "source": [
    "def find_start_index(lst, target):\n",
    "    left, right = 0, len(lst) - 1\n",
    "    result = -1\n",
    "    while left <= right:\n",
    "        mid = (left + right) // 2\n",
    "        if lst[mid] < target:\n",
    "            left = mid + 1\n",
    "        else:\n",
    "            if lst[mid] == target:\n",
    "                result = mid\n",
    "            right = mid - 1\n",
    "    return result\n",
    "\n",
    "def find_end_index(lst, target):\n",
    "    left, right = 0, len(lst) - 1\n",
    "    result = -1\n",
    "    while left <= right:\n",
    "        mid = (left + right) // 2\n",
    "        if lst[mid] > target:\n",
    "            right = mid - 1\n",
    "        else:\n",
    "            if lst[mid] == target:\n",
    "                result = mid\n",
    "            left = mid + 1\n",
    "    return result\n",
    "\n",
    "def binary_search_range(lst, target):\n",
    "    lst.sort()  # 오름차순 정렬\n",
    "    start = find_start_index(lst, target)\n",
    "    end = find_end_index(lst, target)\n",
    "\n",
    "    if start == -1 or end == -1:\n",
    "        print(\"NOT FOUND\")\n",
    "        return \"notfound\"\n",
    "    else:\n",
    "        print(f\"{start} {end}\")\n",
    "        return start + end \n",
    "\n",
    "\n"
   ]
  },
  {
   "cell_type": "code",
   "execution_count": null,
   "id": "27230b92",
   "metadata": {},
   "outputs": [],
   "source": []
  },
  {
   "cell_type": "code",
   "execution_count": null,
   "id": "7a2fc084",
   "metadata": {},
   "outputs": [],
   "source": []
  },
  {
   "cell_type": "code",
   "execution_count": null,
   "id": "8fa288ea",
   "metadata": {},
   "outputs": [],
   "source": [
    "def find_start_index(lst, target):\n",
    "    left, right = 0, len(lst) - 1\n",
    "    result = -1\n",
    "    while left <= right:\n",
    "        mid = (left + right) // 2\n",
    "        if lst[mid] < target:\n",
    "            left = mid + 1\n",
    "        else:\n",
    "            if lst[mid] == target:\n",
    "                result = mid\n",
    "            right = mid - 1\n",
    "    return result\n",
    "\n",
    "def find_end_index(lst, target):\n",
    "    left, right = 0, len(lst) - 1\n",
    "    result = -1\n",
    "    while left <= right:\n",
    "        mid = (left + right) // 2\n",
    "        if lst[mid] > target:\n",
    "            right = mid - 1\n",
    "        else:\n",
    "            if lst[mid] == target:\n",
    "                result = mid\n",
    "            left = mid + 1\n",
    "    return result\n",
    "\n",
    "def binary_search_range(lst, target):\n",
    "    lst.sort()\n",
    "    start = find_start_index(lst, target)\n",
    "    end = find_end_index(lst, target)\n",
    "\n",
    "    if start == -1 or end == -1:\n",
    "        print(\"notfound\")\n",
    "        return \"notfound\"\n",
    "    else:\n",
    "        result = start + end\n",
    "        print(f\"{start} {end}\")\n",
    "        print(f\"PASSCORD = {start} + {end} = {result}\")\n",
    "        return result\n",
    "\n",
    "\n"
   ]
  },
  {
   "cell_type": "code",
   "execution_count": null,
   "id": "44aa3354",
   "metadata": {},
   "outputs": [],
   "source": [
    "binary_search_range(lst, target)\n"
   ]
  }
 ],
 "metadata": {
  "kernelspec": {
   "display_name": "Python 3",
   "language": "python",
   "name": "python3"
  },
  "language_info": {
   "codemirror_mode": {
    "name": "ipython",
    "version": 3
   },
   "file_extension": ".py",
   "mimetype": "text/x-python",
   "name": "python",
   "nbconvert_exporter": "python",
   "pygments_lexer": "ipython3",
   "version": "3.13.2"
  }
 },
 "nbformat": 4,
 "nbformat_minor": 5
}
