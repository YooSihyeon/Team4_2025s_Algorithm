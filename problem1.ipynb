{
 "cells": [
  {
   "cell_type": "code",
   "execution_count": 1,
   "id": "16306e14",
   "metadata": {},
   "outputs": [],
   "source": [
    "shuffled_list = [\n",
    "    \"-900\", \"3\", \"baz\", \"six^\", \"2\", \"65\", \"comma,\", \"0\", \"adipiscing\", \"-500\",\n",
    "    \"space \", \"foo\", \"15\", \"75\", \"-100\", \"10\", \"one!\", \"lorem\", \"one\", \"-600\",\n",
    "    \"-450\", \"bar\", \"world\", \"five%\", \"star*\", \"ten\", \"four$\", \"500\", \"95\", \"thousand\",\n",
    "    \"300\", \"-50\", \"-25\", \"70\", \"minus\", \"xyz\", \"-200\", \"abc!\", \"do\", \"-888\",\n",
    "    \"35\", \"incididunt\", \"400\", \"7\", \"700\", \"-20\", \"100\", \"500\", \"100\", \"hello\",\n",
    "    \"3a\", \"55\", \"three#\", \"-350\", \"-10\", \"five\", \"4\", \"-4\", \"-700\", \"2\",\n",
    "    \"abc\", \"xyz\", \"-250\", \"2\", \"zero\", \"-650\", \"-15\", \"ten)\", \"consectetur\", \"-1\",\n",
    "    \"45\", \"eight*\", \"elit\", \"-77\", \"-50\", \"ten\", \"0\", \"underscore_\", \"four\", \"-100\",\n",
    "    \"-300\", \"-10\", \"40\", \"-850\", \"seven&\", \"700\", \"-200\", \"amet\", \"-25\", \"1\",\n",
    "    \"33\", \"85\", \"dolore\", \"nine(\", \"99\", \"dolor\", \"6\", \"-999\", \"3\", \"baz\",\n",
    "    \"lorem\", \"six^\", \"bar\", \"seven&\", \"100\", \"xyz\", \"two@\", \"adipiscing\", \"-200\", \"abc!\",\n",
    "    \"-1000\", \"nine(\", \"5\", \"-850\", \"consectetur\", \"999\", \"bar\", \"xyz\", \"-700\", \"999\",\n",
    "    \"foo\", \"plus\", \"70\", \"-900\", \"-20\", \"-250\", \"incididunt\", \"three#\", \"one!\", \"hello\",\n",
    "    \"six^\", \"1\", \"-777\", \"abc\", \"comma,\", \"cat\", \"bar\", \"baz\", \"baz\", \"3a\",\n",
    "    \"abc123\", \"-500\", \"7\", \"-650\", \"-300\", \"hello\", \"bar\", \"NaN\", \"999\", \"space \",\n",
    "    \"999\", \"star*\", \"ten\", \"-450\", \"underscore_\", \"three#\", \"baz\", \"five\", \"-100\", \"-1000\",\n",
    "    \"-100\", \"baz\", \"one\", \"1.5\", \"nine(\", \"-15\", \"five%\", \"5\", \"six^\", \"-300\",\n",
    "    \"consectetur\", \"-100\", \"cat\", \"eight*\", \"baz\", \"baz\", \"space \", \"baz\", \"baz\", \"baz\"\n",
    "]"
   ]
  },
  {
   "cell_type": "code",
   "execution_count": 8,
   "id": "b7c9e214",
   "metadata": {},
   "outputs": [],
   "source": [
    "converted = []\n",
    "\n",
    "for item in shuffled_list:\n",
    "    # 정수인지 확인\n",
    "    if item.isdigit():\n",
    "        converted.append(int(item))\n",
    "    # 소수점이 포함된 숫자인지 확인\n",
    "    elif item.replace('.', '', 1).isdigit() and item.count('.') < 2:\n",
    "        converted.append(float(item))\n",
    "    else:\n",
    "        converted.append(item)  # 여전히 문자열이면 그대로 둠"
   ]
  },
  {
   "cell_type": "code",
   "execution_count": 9,
   "id": "7b51a301",
   "metadata": {},
   "outputs": [],
   "source": [
    "numbers = []\n",
    "strings = []\n",
    "\n",
    "for item in shuffled_list:\n",
    "    if item.isdigit():\n",
    "        numbers.append(int(item))\n",
    "    elif item.replace('.', '', 1).isdigit() and item.count('.') < 2:\n",
    "        numbers.append(float(item))\n",
    "    else:\n",
    "        strings.append(item)\n"
   ]
  },
  {
   "cell_type": "code",
   "execution_count": 11,
   "id": "cb136075",
   "metadata": {},
   "outputs": [
    {
     "name": "stdout",
     "output_type": "stream",
     "text": [
      "[3, 2, 65, 0, 15, 75, 10, 500, 95, 300, 70, 35, 400, 7, 700, 100, 500, 100, 55, 4, 2, 2, 45, 0, 40, 700, 1, 33, 85, 99, 6, 3, 100, 5, 999, 999, 70, 1, 7, 999, 999, 1.5, 5]\n"
     ]
    }
   ],
   "source": [
    "print(numbers)"
   ]
  },
  {
   "cell_type": "code",
   "execution_count": 12,
   "id": "b267344c",
   "metadata": {},
   "outputs": [],
   "source": [
    "def merge_sort(arr):\n",
    "    # 리스트 길이가 1 이하이면 이미 정렬된 상태\n",
    "    if len(arr) <= 1:\n",
    "        return arr\n",
    "\n",
    "    # 리스트를 절반으로 분할 (Divide)\n",
    "    mid = len(arr) // 2\n",
    "    left = merge_sort(arr[:mid])    # 왼쪽 부분 정렬\n",
    "    right = merge_sort(arr[mid:])   # 오른쪽 부분 정렬\n",
    "\n",
    "    # 정렬된 두 리스트를 병합 (Merge)\n",
    "    merged = []\n",
    "    i = j = 0\n",
    "    # 두 리스트의 요소를 하나씩 비교하여 더 작은 값을 추가\n",
    "    while i < len(left) and j < len(right):\n",
    "        if left[i] < right[j]:\n",
    "            merged.append(left[i])\n",
    "            i += 1\n",
    "        else:\n",
    "            merged.append(right[j])\n",
    "            j += 1\n",
    "\n",
    "    # 남은 요소들을 추가\n",
    "    merged.extend(left[i:])\n",
    "    merged.extend(right[j:])\n",
    "    return merged\n"
   ]
  },
  {
   "cell_type": "code",
   "execution_count": 13,
   "id": "7b870c38",
   "metadata": {},
   "outputs": [
    {
     "data": {
      "text/plain": [
       "[0,\n",
       " 0,\n",
       " 1,\n",
       " 1,\n",
       " 1.5,\n",
       " 2,\n",
       " 2,\n",
       " 2,\n",
       " 3,\n",
       " 3,\n",
       " 4,\n",
       " 5,\n",
       " 5,\n",
       " 6,\n",
       " 7,\n",
       " 7,\n",
       " 10,\n",
       " 15,\n",
       " 33,\n",
       " 35,\n",
       " 40,\n",
       " 45,\n",
       " 55,\n",
       " 65,\n",
       " 70,\n",
       " 70,\n",
       " 75,\n",
       " 85,\n",
       " 95,\n",
       " 99,\n",
       " 100,\n",
       " 100,\n",
       " 100,\n",
       " 300,\n",
       " 400,\n",
       " 500,\n",
       " 500,\n",
       " 700,\n",
       " 700,\n",
       " 999,\n",
       " 999,\n",
       " 999,\n",
       " 999]"
      ]
     },
     "execution_count": 13,
     "metadata": {},
     "output_type": "execute_result"
    }
   ],
   "source": [
    "# 예시 입력\n",
    "merge_sort(numbers)"
   ]
  },
  {
   "cell_type": "code",
   "execution_count": null,
   "id": "1792dadf",
   "metadata": {},
   "outputs": [],
   "source": []
  }
 ],
 "metadata": {
  "kernelspec": {
   "display_name": "Python 3",
   "language": "python",
   "name": "python3"
  },
  "language_info": {
   "codemirror_mode": {
    "name": "ipython",
    "version": 3
   },
   "file_extension": ".py",
   "mimetype": "text/x-python",
   "name": "python",
   "nbconvert_exporter": "python",
   "pygments_lexer": "ipython3",
   "version": "3.13.2"
  }
 },
 "nbformat": 4,
 "nbformat_minor": 5
}
