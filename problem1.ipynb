{
 "cells": [
  {
   "cell_type": "code",
   "execution_count": 1,
   "id": "16306e14",
   "metadata": {},
   "outputs": [],
   "source": [
    "shuffled_list = [\n",
    "    \"-900\", \"3\", \"baz\", \"six^\", \"2\", \"65\", \"comma,\", \"0\", \"adipiscing\", \"-500\",\n",
    "    \"space \", \"foo\", \"15\", \"75\", \"-100\", \"10\", \"one!\", \"lorem\", \"one\", \"-600\",\n",
    "    \"-450\", \"bar\", \"world\", \"five%\", \"star*\", \"ten\", \"four$\", \"500\", \"95\", \"thousand\",\n",
    "    \"300\", \"-50\", \"-25\", \"70\", \"minus\", \"xyz\", \"-200\", \"abc!\", \"do\", \"-888\",\n",
    "    \"35\", \"incididunt\", \"400\", \"7\", \"700\", \"-20\", \"100\", \"500\", \"100\", \"hello\",\n",
    "    \"3a\", \"55\", \"three#\", \"-350\", \"-10\", \"five\", \"4\", \"-4\", \"-700\", \"2\",\n",
    "    \"abc\", \"xyz\", \"-250\", \"2\", \"zero\", \"-650\", \"-15\", \"ten)\", \"consectetur\", \"-1\",\n",
    "    \"45\", \"eight*\", \"elit\", \"-77\", \"-50\", \"ten\", \"0\", \"underscore_\", \"four\", \"-100\",\n",
    "    \"-300\", \"-10\", \"40\", \"-850\", \"seven&\", \"700\", \"-200\", \"amet\", \"-25\", \"1\",\n",
    "    \"33\", \"85\", \"dolore\", \"nine(\", \"99\", \"dolor\", \"6\", \"-999\", \"3\", \"baz\",\n",
    "    \"lorem\", \"six^\", \"bar\", \"seven&\", \"100\", \"xyz\", \"two@\", \"adipiscing\", \"-200\", \"abc!\",\n",
    "    \"-1000\", \"nine(\", \"5\", \"-850\", \"consectetur\", \"999\", \"bar\", \"xyz\", \"-700\", \"999\",\n",
    "    \"foo\", \"plus\", \"70\", \"-900\", \"-20\", \"-250\", \"incididunt\", \"three#\", \"one!\", \"hello\",\n",
    "    \"six^\", \"1\", \"-777\", \"abc\", \"comma,\", \"cat\", \"bar\", \"baz\", \"baz\", \"3a\",\n",
    "    \"abc123\", \"-500\", \"7\", \"-650\", \"-300\", \"hello\", \"bar\", \"NaN\", \"999\", \"space \",\n",
    "    \"999\", \"star*\", \"ten\", \"-450\", \"underscore_\", \"three#\", \"baz\", \"five\", \"-100\", \"-1000\",\n",
    "    \"-100\", \"baz\", \"one\", \"1.5\", \"nine(\", \"-15\", \"five%\", \"5\", \"six^\", \"-300\",\n",
    "    \"consectetur\", \"-100\", \"cat\", \"eight*\", \"baz\", \"baz\", \"space \", \"baz\", \"baz\", \"baz\"\n",
    "]"
   ]
  },
  {
   "cell_type": "code",
   "execution_count": 2,
   "id": "740f347d",
   "metadata": {},
   "outputs": [
    {
     "name": "stdout",
     "output_type": "stream",
     "text": [
      "[]\n"
     ]
    }
   ],
   "source": [
    "# 정수(int)만 추출\n",
    "list = [x for x in shuffled_list if isinstance(x, int)]\n",
    "print(list)"
   ]
  },
  {
   "cell_type": "code",
   "execution_count": null,
   "id": "e77c2a7a",
   "metadata": {},
   "outputs": [
    {
     "name": "stdout",
     "output_type": "stream",
     "text": [
      "[<class 'str'>, <class 'str'>, <class 'str'>, <class 'str'>, <class 'str'>, <class 'str'>, <class 'str'>, <class 'str'>, <class 'str'>, <class 'str'>, <class 'str'>, <class 'str'>, <class 'str'>, <class 'str'>, <class 'str'>, <class 'str'>, <class 'str'>, <class 'str'>, <class 'str'>, <class 'str'>, <class 'str'>, <class 'str'>, <class 'str'>, <class 'str'>, <class 'str'>, <class 'str'>, <class 'str'>, <class 'str'>, <class 'str'>, <class 'str'>, <class 'str'>, <class 'str'>, <class 'str'>, <class 'str'>, <class 'str'>, <class 'str'>, <class 'str'>, <class 'str'>, <class 'str'>, <class 'str'>, <class 'str'>, <class 'str'>, <class 'str'>, <class 'str'>, <class 'str'>, <class 'str'>, <class 'str'>, <class 'str'>, <class 'str'>, <class 'str'>, <class 'str'>, <class 'str'>, <class 'str'>, <class 'str'>, <class 'str'>, <class 'str'>, <class 'str'>, <class 'str'>, <class 'str'>, <class 'str'>, <class 'str'>, <class 'str'>, <class 'str'>, <class 'str'>, <class 'str'>, <class 'str'>, <class 'str'>, <class 'str'>, <class 'str'>, <class 'str'>, <class 'str'>, <class 'str'>, <class 'str'>, <class 'str'>, <class 'str'>, <class 'str'>, <class 'str'>, <class 'str'>, <class 'str'>, <class 'str'>, <class 'str'>, <class 'str'>, <class 'str'>, <class 'str'>, <class 'str'>, <class 'str'>, <class 'str'>, <class 'str'>, <class 'str'>, <class 'str'>, <class 'str'>, <class 'str'>, <class 'str'>, <class 'str'>, <class 'str'>, <class 'str'>, <class 'str'>, <class 'str'>, <class 'str'>, <class 'str'>, <class 'str'>, <class 'str'>, <class 'str'>, <class 'str'>, <class 'str'>, <class 'str'>, <class 'str'>, <class 'str'>, <class 'str'>, <class 'str'>, <class 'str'>, <class 'str'>, <class 'str'>, <class 'str'>, <class 'str'>, <class 'str'>, <class 'str'>, <class 'str'>, <class 'str'>, <class 'str'>, <class 'str'>, <class 'str'>, <class 'str'>, <class 'str'>, <class 'str'>, <class 'str'>, <class 'str'>, <class 'str'>, <class 'str'>, <class 'str'>, <class 'str'>, <class 'str'>, <class 'str'>, <class 'str'>, <class 'str'>, <class 'str'>, <class 'str'>, <class 'str'>, <class 'str'>, <class 'str'>, <class 'str'>, <class 'str'>, <class 'str'>, <class 'str'>, <class 'str'>, <class 'str'>, <class 'str'>, <class 'str'>, <class 'str'>, <class 'str'>, <class 'str'>, <class 'str'>, <class 'str'>, <class 'str'>, <class 'str'>, <class 'str'>, <class 'str'>, <class 'str'>, <class 'str'>, <class 'str'>, <class 'str'>, <class 'str'>, <class 'str'>, <class 'str'>, <class 'str'>, <class 'str'>, <class 'str'>, <class 'str'>, <class 'str'>, <class 'str'>, <class 'str'>, <class 'str'>, <class 'str'>, <class 'str'>, <class 'str'>, <class 'str'>, <class 'str'>, <class 'str'>, <class 'str'>, <class 'str'>]\n"
     ]
    }
   ],
   "source": [
    "types = [type(x) for x in shuffled_list]\n",
    "print(types)"
   ]
  },
  {
   "cell_type": "code",
   "execution_count": null,
   "id": "49c713c9",
   "metadata": {},
   "outputs": [],
   "source": []
  }
 ],
 "metadata": {
  "kernelspec": {
   "display_name": "Python 3",
   "language": "python",
   "name": "python3"
  },
  "language_info": {
   "codemirror_mode": {
    "name": "ipython",
    "version": 3
   },
   "file_extension": ".py",
   "mimetype": "text/x-python",
   "name": "python",
   "nbconvert_exporter": "python",
   "pygments_lexer": "ipython3",
   "version": "3.13.2"
  }
 },
 "nbformat": 4,
 "nbformat_minor": 5
}
