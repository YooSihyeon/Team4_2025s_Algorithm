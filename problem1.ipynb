{
 "cells": [
  {
   "cell_type": "code",
   "execution_count": null,
   "id": "f8146bd0",
   "metadata": {},
   "outputs": [],
   "source": []
  },
  {
   "cell_type": "code",
   "execution_count": 1,
   "id": "99218dae",
   "metadata": {},
   "outputs": [],
   "source": [
    "def merge_sort(arr):\n",
    "    # 리스트 길이가 1 이하이면 이미 정렬된 상태\n",
    "    if len(arr) <= 1:\n",
    "        return arr\n",
    "\n",
    "    # 리스트를 절반으로 분할 (Divide)\n",
    "    mid = len(arr) // 2\n",
    "    left = merge_sort(arr[:mid])    # 왼쪽 부분 정렬\n",
    "    right = merge_sort(arr[mid:])   # 오른쪽 부분 정렬\n",
    "\n",
    "    # 정렬된 두 리스트를 병합 (Merge)\n",
    "    merged = []\n",
    "    i = j = 0\n",
    "    # 두 리스트의 요소를 하나씩 비교하여 더 작은 값을 추가\n",
    "    while i < len(left) and j < len(right):\n",
    "        if left[i] < right[j]:\n",
    "            merged.append(left[i])\n",
    "            i += 1\n",
    "        else:\n",
    "            merged.append(right[j])\n",
    "            j += 1\n",
    "\n",
    "    # 남은 요소들을 추가\n",
    "    merged.extend(left[i:])\n",
    "    merged.extend(right[j:])\n",
    "    return merged"
   ]
  },
  {
   "cell_type": "code",
   "execution_count": 2,
   "id": "80e9dced",
   "metadata": {},
   "outputs": [
    {
     "data": {
      "text/plain": [
       "[1, 2, 4, 5, 7]"
      ]
     },
     "execution_count": 2,
     "metadata": {},
     "output_type": "execute_result"
    }
   ],
   "source": [
    "# 예시 입력\n",
    "ex = [7, 2, 5, 1, 4]\n",
    "\n",
    "merge_sort(ex)"
   ]
  },
  {
   "cell_type": "code",
   "execution_count": null,
   "id": "a961cdaf",
   "metadata": {},
   "outputs": [],
   "source": []
  }
 ],
 "metadata": {
  "kernelspec": {
   "display_name": "Python 3",
   "language": "python",
   "name": "python3"
  },
  "language_info": {
   "codemirror_mode": {
    "name": "ipython",
    "version": 3
   },
   "file_extension": ".py",
   "mimetype": "text/x-python",
   "name": "python",
   "nbconvert_exporter": "python",
   "pygments_lexer": "ipython3",
   "version": "3.13.2"
  }
 },
 "nbformat": 4,
 "nbformat_minor": 5
}
